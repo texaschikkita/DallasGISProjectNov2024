{
 "cells": [
  {
   "cell_type": "code",
   "execution_count": null,
   "metadata": {},
   "outputs": [],
   "source": [
    "pip install geopandas"
   ]
  },
  {
   "cell_type": "code",
   "execution_count": 2,
   "metadata": {},
   "outputs": [
    {
     "ename": "<class 'ModuleNotFoundError'>",
     "evalue": "No module named 'geopandas'",
     "output_type": "error",
     "traceback": [
      "\u001b[1;31m---------------------------------------------------------------------------\u001b[0m",
      "\u001b[1;31mModuleNotFoundError\u001b[0m                       Traceback (most recent call last)",
      "Cell \u001b[1;32mIn[2], line 1\u001b[0m\n\u001b[1;32m----> 1\u001b[0m \u001b[38;5;28;01mimport\u001b[39;00m \u001b[38;5;21;01mgeopandas\u001b[39;00m \u001b[38;5;28;01mas\u001b[39;00m \u001b[38;5;21;01mgpd\u001b[39;00m\n\u001b[0;32m      2\u001b[0m \u001b[38;5;28;01mimport\u001b[39;00m \u001b[38;5;21;01mpandas\u001b[39;00m \u001b[38;5;28;01mas\u001b[39;00m \u001b[38;5;21;01mpd\u001b[39;00m\n\u001b[0;32m      3\u001b[0m \u001b[38;5;28;01mfrom\u001b[39;00m \u001b[38;5;21;01mshapely\u001b[39;00m\u001b[38;5;21;01m.\u001b[39;00m\u001b[38;5;21;01mgeometry\u001b[39;00m \u001b[38;5;28;01mimport\u001b[39;00m Point\n",
      "\u001b[1;31mModuleNotFoundError\u001b[0m: No module named 'geopandas'"
     ]
    }
   ],
   "source": [
    "import geopandas as gpd\n",
    "import pandas as pd\n",
    "from shapely.geometry import Point\n",
    "\n",
    "# Data for the shapefile\n",
    "data = {\n",
    "    \"Address\": [\n",
    "        \"4506 Hedgdon Dr, Dallas, TX 75216\",\n",
    "        \"4510 Hedgdon Dr, Dallas, TX 75216\",\n",
    "        \"4512 Hedgdon Dr, Dallas, TX 75216\",\n",
    "        \"4516 Hedgdon Dr, Dallas, TX 75216\",\n",
    "        \"4519 Hedgdon Dr, Dallas, TX 75216\",\n",
    "        \"4520 Hedgdon Dr, Dallas, TX 75216\",\n",
    "        \"4523 Hedgdon Dr, Dallas, TX 75216\",\n",
    "        \"4527 Hedgdon Dr, Dallas, TX 75216\",\n",
    "        \"4530 Hedgdon Dr, Dallas, TX 75216\",\n",
    "        \"4531 Hedgdon Dr, Dallas, TX 75216\",\n",
    "        \"4533 Hedgdon Dr, Dallas, TX 75216\",\n",
    "        \"4534 Hedgdon Dr, Dallas, TX 75216\",\n",
    "        \"4535 Hedgdon Dr, Dallas, TX 75216\",\n",
    "        \"4612 Hedgdon Dr, Dallas, TX 75216\",\n",
    "        \"4615 Hedgdon Dr, Dallas, TX 75216\",\n",
    "        \"4618 Hedgdon Dr, Dallas, TX 75216\",\n",
    "        \"4622 Hedgdon Dr, Dallas, TX 75216\",\n",
    "        \"3401 Fifty-First St, Dallas, TX 75216\",\n",
    "        \"3500 Fifty-First St, Dallas, TX 75216\",\n",
    "        \"4534 Humphrey Dr, Dallas, TX 75216\",\n",
    "        \"4538 Humphrey Dr, Dallas, TX 75216\",\n",
    "        \"3227 Mallory Dr, Dallas, TX 75216\",\n",
    "        \"3502 Mallory Dr, Dallas, TX 75216\",\n",
    "    ],\n",
    "    \"Latitude\": [\n",
    "        32.70669, 32.706475, 32.706238, 32.70599, 32.705816, 32.705779,\n",
    "        32.705648, 32.705337, 32.705394, 32.705084, 32.704844, 32.705137,\n",
    "        32.704629, 32.704235, 32.704356, 32.703861, 32.703576, 32.703386,\n",
    "        32.703776, 32.704827, 32.704592, 32.707176, 32.707412\n",
    "    ],\n",
    "    \"Longitude\": [\n",
    "        -96.761231, -96.761163, -96.761041, -96.760947, -96.761526, -96.760847,\n",
    "        -96.761496, -96.761349, -96.760712, -96.761256, -96.76113, -96.760587,\n",
    "        -96.761047, -96.76021, -96.760938, -96.760037, -96.759974, -96.763752,\n",
    "        -96.761748, -96.76226, -96.76216, -96.76203, -96.758619\n",
    "    ],\n",
    "    \"Neighborhood\": [\"Cedar Crest\"] * 23,\n",
    "    \"Elementary\": [\"Pease Elementary\"] * 23,\n",
    "    \"Middle_Sch\": [\"Zumwalt Middle\"] * 23,\n",
    "    \"High_Schoo\": [\"Roosevelt High\"] * 23,\n",
    "    \"Dollar_Val\": [\n",
    "        155000, 165340, 179110, 205900, 171000, 192110, 154000, 207900, 146500,\n",
    "        180800, 253700, 179800, 205300, 175300, 206000, 169000, 248500, 138100,\n",
    "        277300, 124800, 145600, 134600, 221000\n",
    "    ],\n",
    "    \"SqFt\": [\n",
    "        1224, 1428, 1140, 1315, 1100, 1401, 1397, 1518, 1183, 1221, 2664, 1126,\n",
    "        1911, 840, 1622, 1092, 1835, 1014, 2359, 899, 932, 1036, 1962\n",
    "    ],\n",
    "    \"Image_Path\": [\n",
    "        f\"C:\\\\Users\\\\jessi\\\\Desktop\\\\Dallas Walkability\\\\dallas project images GIS-selected\\\\{addr.split()[0]}\"\n",
    "        for addr in [\n",
    "            \"4506\", \"4510\", \"4512\", \"4516\", \"4519\", \"4520\", \"4523\", \"4527\", \"4530\",\n",
    "            \"4531\", \"4533\", \"4534\", \"4535\", \"4612\", \"4615\", \"4618\", \"4622\", \"3401\",\n",
    "            \"3500\", \"4534\", \"4538\", \"3227\", \"3502\"\n",
    "        ]\n",
    "    ],\n",
    "}\n",
    "\n",
    "# Convert data to a GeoDataFrame\n",
    "df = pd.DataFrame(data)\n",
    "geometry = [Point(xy) for xy in zip(df[\"Longitude\"], df[\"Latitude\"])]\n",
    "gdf = gpd.GeoDataFrame(df, geometry=geometry, crs=\"EPSG:4326\")  # WGS84 CRS\n",
    "\n",
    "# Save to a shapefile\n",
    "output_path = r\"C:\\Users\\jessi\\Desktop\\Dallas Walkability\\Dallas_Addresses.shp\"\n",
    "gdf.to_file(output_path)\n",
    "\n",
    "print(f\"Shapefile created at {output_path}\")\n"
   ]
  }
 ],
 "metadata": {
  "kernelspec": {
   "display_name": "ArcGISPro",
   "language": "python",
   "name": "python3"
  },
  "language_info": {
   "file_extension": ".py",
   "mimetype": "text/x-python",
   "name": "python",
   "version": "3.11.10"
  }
 },
 "nbformat": 4,
 "nbformat_minor": 4
}
