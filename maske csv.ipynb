{
 "cells": [
  {
   "cell_type": "code",
   "execution_count": 1,
   "metadata": {},
   "outputs": [
    {
     "data": {
      "text/plain": [
       "'dallas_walk.csv'"
      ]
     },
     "execution_count": 1,
     "metadata": {},
     "output_type": "execute_result"
    }
   ],
   "source": [
    "import pandas as pd\n",
    "\n",
    "# Define the data\n",
    "data = [\n",
    "    {\"Street\": \"Seaton Dr\", \"House Number\": 4337, \"Fence Presence\": \"Yes\", \"Fence Type\": \"Standard\", \"Nearby Amenity\": \"Green Spaces\", \"Address\": \"4337 Seaton Dr, Dallas, TX 75216\"},\n",
    "    {\"Street\": \"Kyser St\", \"House Number\": 4323, \"Fence Presence\": \"Yes\", \"Fence Type\": \"Standard\", \"Nearby Amenity\": \"None\", \"Address\": \"43323 Kyser St, Dallas, TX 75216\"},\n",
    "    {\"Street\": \"Kyser St\", \"House Number\": 4325, \"Fence Presence\": \"Yes\", \"Fence Type\": \"Standard\", \"Nearby Amenity\": \"None\", \"Address\": \"4325 Kyser St, Dallas, TX 75216\"},\n",
    "    {\"Street\": \"Kyser St\", \"House Number\": 4326, \"Fence Presence\": \"Yes\", \"Fence Type\": \"Standard\", \"Nearby Amenity\": \"None\", \"Address\": \"4326 Kyser St, Dallas, TX 75216\"},\n",
    "    {\"Street\": \"Kyser St\", \"House Number\": 4328, \"Fence Presence\": \"Yes\", \"Fence Type\": \"Standard\", \"Nearby Amenity\": \"None\", \"Address\": \"4328 Kyser St, Dallas, TX 75216\"},\n",
    "    {\"Street\": \"Kyser St\", \"House Number\": 4329, \"Fence Presence\": \"Yes\", \"Fence Type\": \"Head Height\", \"Nearby Amenity\": \"None\", \"Address\": \"4329 Kyser St, Dallas, TX 75216\"},\n",
    "    {\"Street\": \"Kyser St\", \"House Number\": 4331, \"Fence Presence\": \"Yes\", \"Fence Type\": \"Standard\", \"Nearby Amenity\": \"None\", \"Address\": \"4331 Kyser St, Dallas, TX 75216\"},\n",
    "    {\"Street\": \"Kyser St\", \"House Number\": 4335, \"Fence Presence\": \"Yes\", \"Fence Type\": \"Standard\", \"Nearby Amenity\": \"None\", \"Address\": \"4335 Kyser St, Dallas, TX 75216\"},\n",
    "    {\"Street\": \"Kyser St\", \"House Number\": 4337, \"Fence Presence\": \"Yes\", \"Fence Type\": \"Standard\", \"Nearby Amenity\": \"None\", \"Address\": \"4337 Kyser St, Dallas, TX 75216\"},\n",
    "    {\"Street\": \"Vandervort Dr\", \"House Number\": 4324, \"Fence Presence\": \"Yes\", \"Fence Type\": \"Standard\", \"Nearby Amenity\": \"None\", \"Address\": \"4324 Vandervort Dr, Dallas TX 75216\"},\n",
    "    {\"Street\": \"Vandervort Dr\", \"House Number\": 4326, \"Fence Presence\": \"Yes\", \"Fence Type\": \"Standard\", \"Nearby Amenity\": \"None\", \"Address\": \"4326 Vandervort Dr, Dallas TX 75216\"},\n",
    "    {\"Street\": \"Vandervort Dr\", \"House Number\": 4328, \"Fence Presence\": \"Yes\", \"Fence Type\": \"Standard\", \"Nearby Amenity\": \"None\", \"Address\": \"4328 Vandervort Dr, Dallas TX 75216\"},\n",
    "    {\"Street\": \"Vandervort Dr\", \"House Number\": 4332, \"Fence Presence\": \"Yes\", \"Fence Type\": \"Standard\", \"Nearby Amenity\": \"None\", \"Address\": \"4332 Vandervort Dr, Dallas TX 75216\"},\n",
    "    {\"Street\": \"Vandervort Dr\", \"House Number\": 4336, \"Fence Presence\": \"Yes\", \"Fence Type\": \"Standard\", \"Nearby Amenity\": \"None\", \"Address\": \"4336 Vandervort Dr, Dallas TX 75216\"},\n",
    "    {\"Street\": \"Vandervort Dr\", \"House Number\": 4340, \"Fence Presence\": \"Yes\", \"Fence Type\": \"Standard\", \"Nearby Amenity\": \"None\", \"Address\": \"4340 Vandervort Dr, Dallas TX 75216\"},\n",
    "    {\"Street\": \"Vandervort Dr\", \"House Number\": 4342, \"Fence Presence\": \"Yes\", \"Fence Type\": \"Standard\", \"Nearby Amenity\": \"None\", \"Address\": \"4342 Vandervort Dr, Dallas TX 75216\"},\n",
    "    {\"Street\": \"Linfield Rd\", \"House Number\": 3506, \"Fence Presence\": \"No\", \"Fence Type\": \"None\", \"Nearby Amenity\": \"Bus Stop\", \"Address\": \"3506 Linfield Rd, Dallas, TX 75216\"},\n",
    "    {\"Street\": \"Linfield Rd\", \"House Number\": 3516, \"Fence Presence\": \"Yes\", \"Fence Type\": \"Standard\", \"Nearby Amenity\": \"None\", \"Address\": \"3516 Linfield Rd, Dallas, TX 75216\"},\n",
    "    {\"Street\": \"Linfield Rd\", \"House Number\": 3520, \"Fence Presence\": \"Yes\", \"Fence Type\": \"Standard\", \"Nearby Amenity\": \"None\", \"Address\": \"3520 Linfield Rd, Dallas, TX 75216\"},\n",
    "    {\"Street\": \"Linfield Rd\", \"House Number\": 3522, \"Fence Presence\": \"Yes\", \"Fence Type\": \"Standard\", \"Nearby Amenity\": \"None\", \"Address\": \"3522 Linfield Rd, Dallas, TX 75216\"},\n",
    "    {\"Street\": \"Kelloch Rd\", \"House Number\": 3506, \"Fence Presence\": \"No\", \"Fence Type\": \"None\", \"Nearby Amenity\": \"Bus Stop\", \"Address\": \"3506 Kellogg Ave, Dallas, TX 75216\"},\n",
    "    {\"Street\": \"Kelloch Rd\", \"House Number\": 3516, \"Fence Presence\": \"Yes\", \"Fence Type\": \"Standard\", \"Nearby Amenity\": \"None\", \"Address\": \"3516 Kellogg Ave, Dallas, TX 75216\"},\n",
    "    {\"Street\": \"Royal Crest\", \"House Number\": \"Apartments\", \"Fence Presence\": \"No\", \"Fence Type\": \"None\", \"Nearby Amenity\": \"Bus Stop, Green Space\", \"Address\": \"3558 Wilhurt Ave, Dallas, TX 75216\"},\n",
    "    {\"Street\": \"Seaton Park\", \"House Number\": \"N/A\", \"Fence Presence\": \"No\", \"Fence Type\": \"None\", \"Nearby Amenity\": \"Green Spaces\", \"Address\": \"3200 Seaton Dr, Dallas, TX 75216\"},\n",
    "    {\"Street\": \"Fruitdale WIC\", \"House Number\": \"N/A\", \"Fence Presence\": \"No\", \"Fence Type\": \"None\", \"Nearby Amenity\": \"Green Spaces\", \"Address\": \"4408 Vandervort Dr, Dallas, TX 75216\"}\n",
    "]\n",
    "\n",
    "# Convert the data to a DataFrame\n",
    "df = pd.DataFrame(data)\n",
    "\n",
    "# Save the DataFrame to a CSV file\n",
    "output_path = \"dallas_walk.csv\"\n",
    "df.to_csv(output_path, index=False)\n",
    "\n",
    "output_path\n"
   ]
  },
  {
   "cell_type": "code",
   "execution_count": 2,
   "metadata": {},
   "outputs": [
    {
     "data": {
      "text/plain": [
       "'dallas_walk_w_coord.csv'"
      ]
     },
     "execution_count": 2,
     "metadata": {},
     "output_type": "execute_result"
    }
   ],
   "source": [
    "from geopy.geocoders import Nominatim\n",
    "from geopy.exc import GeocoderTimedOut\n",
    "\n",
    "# Initialize geolocator\n",
    "geolocator = Nominatim(user_agent=\"geo_locator\")\n",
    "\n",
    "# Function to get latitude and longitude\n",
    "def geocode_address(address):\n",
    "    try:\n",
    "        location = geolocator.geocode(address, timeout=10)\n",
    "        if location:\n",
    "            return location.latitude, location.longitude\n",
    "        else:\n",
    "            return None, None\n",
    "    except GeocoderTimedOut:\n",
    "        return None, None\n",
    "\n",
    "# Add coordinates to the DataFrame\n",
    "df['Latitude'], df['Longitude'] = zip(*df['Address'].apply(geocode_address))\n",
    "\n",
    "# Save the updated DataFrame with coordinates\n",
    "output_with_coords_path = \"dallas_walk_w_coord.csv\"\n",
    "df.to_csv(output_with_coords_path, index=False)\n",
    "\n",
    "output_with_coords_path\n"
   ]
  },
  {
   "cell_type": "markdown",
   "metadata": {},
   "source": [
    "Added the rest of the coordinate enrtries and saved as dallas_walk_w_coord.csv."
   ]
  },
  {
   "cell_type": "code",
   "execution_count": 4,
   "metadata": {},
   "outputs": [
    {
     "name": "stderr",
     "output_type": "stream",
     "text": [
      "C:\\Users\\jessi\\AppData\\Local\\Temp\\ipykernel_32936\\3360649122.py:20: UserWarning: Column names longer than 10 characters will be truncated when saved to ESRI Shapefile.\n",
      "  gdf.to_file(shapefile_path)\n",
      "c:\\ProgramData\\miniforge3\\envs\\arcgis\\Lib\\site-packages\\pyogrio\\raw.py:723: RuntimeWarning: Normalized/laundered field name: 'House Number' to 'House Numb'\n",
      "  ogr_write(\n",
      "c:\\ProgramData\\miniforge3\\envs\\arcgis\\Lib\\site-packages\\pyogrio\\raw.py:723: RuntimeWarning: Normalized/laundered field name: 'Fence Presence' to 'Fence Pres'\n",
      "  ogr_write(\n",
      "c:\\ProgramData\\miniforge3\\envs\\arcgis\\Lib\\site-packages\\pyogrio\\raw.py:723: RuntimeWarning: Normalized/laundered field name: 'Nearby Amenity' to 'Nearby Ame'\n",
      "  ogr_write(\n"
     ]
    },
    {
     "data": {
      "text/plain": [
       "'dallas_walk1.shp'"
      ]
     },
     "execution_count": 4,
     "metadata": {},
     "output_type": "execute_result"
    }
   ],
   "source": [
    "import geopandas as gpd\n",
    "from shapely.geometry import Point\n",
    "\n",
    "# Load the updated CSV with coordinates\n",
    "csv_file_path = \"dallas_walk_w_coord.csv\"\n",
    "df = pd.read_csv(csv_file_path)\n",
    "\n",
    "# Ensure Latitude and Longitude are numeric\n",
    "df['Latitude'] = pd.to_numeric(df['Latitude'], errors='coerce')\n",
    "df['Longitude'] = pd.to_numeric(df['Longitude'], errors='coerce')\n",
    "\n",
    "# Create geometry column using Latitude and Longitude\n",
    "df['geometry'] = df.apply(lambda row: Point(row['Longitude'], row['Latitude']), axis=1)\n",
    "\n",
    "# Convert to GeoDataFrame\n",
    "gdf = gpd.GeoDataFrame(df, geometry='geometry', crs=\"EPSG:4326\")\n",
    "\n",
    "# Save to shapefile\n",
    "shapefile_path = \"dallas_walk1.shp\"\n",
    "gdf.to_file(shapefile_path)\n",
    "\n",
    "shapefile_path\n"
   ]
  },
  {
   "cell_type": "code",
   "execution_count": 1,
   "metadata": {},
   "outputs": [
    {
     "name": "stdout",
     "output_type": "stream",
     "text": [
      "Shapefile created at C:\\Users\\jessi\\Desktop\\Dallas Walkability\\Dallas_Addresses.shp\n"
     ]
    },
    {
     "name": "stderr",
     "output_type": "stream",
     "text": [
      "C:\\Users\\jessi\\AppData\\Local\\Temp\\ipykernel_24296\\3584045192.py:74: UserWarning: Column names longer than 10 characters will be truncated when saved to ESRI Shapefile.\n",
      "  gdf.to_file(output_path)\n",
      "c:\\ProgramData\\miniforge3\\envs\\arcgis\\Lib\\site-packages\\pyogrio\\raw.py:723: RuntimeWarning: Normalized/laundered field name: 'Neighborhood' to 'Neighborho'\n",
      "  ogr_write(\n"
     ]
    }
   ],
   "source": [
    "import geopandas as gpd\n",
    "import pandas as pd\n",
    "from shapely.geometry import Point\n",
    "\n",
    "# Data for the shapefile\n",
    "data = {\n",
    "    \"Address\": [\n",
    "        \"4506 Hedgdon Dr, Dallas, TX 75216\",\n",
    "        \"4510 Hedgdon Dr, Dallas, TX 75216\",\n",
    "        \"4512 Hedgdon Dr, Dallas, TX 75216\",\n",
    "        \"4516 Hedgdon Dr, Dallas, TX 75216\",\n",
    "        \"4519 Hedgdon Dr, Dallas, TX 75216\",\n",
    "        \"4520 Hedgdon Dr, Dallas, TX 75216\",\n",
    "        \"4523 Hedgdon Dr, Dallas, TX 75216\",\n",
    "        \"4527 Hedgdon Dr, Dallas, TX 75216\",\n",
    "        \"4530 Hedgdon Dr, Dallas, TX 75216\",\n",
    "        \"4531 Hedgdon Dr, Dallas, TX 75216\",\n",
    "        \"4533 Hedgdon Dr, Dallas, TX 75216\",\n",
    "        \"4534 Hedgdon Dr, Dallas, TX 75216\",\n",
    "        \"4535 Hedgdon Dr, Dallas, TX 75216\",\n",
    "        \"4612 Hedgdon Dr, Dallas, TX 75216\",\n",
    "        \"4615 Hedgdon Dr, Dallas, TX 75216\",\n",
    "        \"4618 Hedgdon Dr, Dallas, TX 75216\",\n",
    "        \"4622 Hedgdon Dr, Dallas, TX 75216\",\n",
    "        \"3401 Fifty-First St, Dallas, TX 75216\",\n",
    "        \"3500 Fifty-First St, Dallas, TX 75216\",\n",
    "        \"4534 Humphrey Dr, Dallas, TX 75216\",\n",
    "        \"4538 Humphrey Dr, Dallas, TX 75216\",\n",
    "        \"3227 Mallory Dr, Dallas, TX 75216\",\n",
    "        \"3502 Mallory Dr, Dallas, TX 75216\",\n",
    "    ],\n",
    "    \"Latitude\": [\n",
    "        32.70669, 32.706475, 32.706238, 32.70599, 32.705816, 32.705779,\n",
    "        32.705648, 32.705337, 32.705394, 32.705084, 32.704844, 32.705137,\n",
    "        32.704629, 32.704235, 32.704356, 32.703861, 32.703576, 32.703386,\n",
    "        32.703776, 32.704827, 32.704592, 32.707176, 32.707412\n",
    "    ],\n",
    "    \"Longitude\": [\n",
    "        -96.761231, -96.761163, -96.761041, -96.760947, -96.761526, -96.760847,\n",
    "        -96.761496, -96.761349, -96.760712, -96.761256, -96.76113, -96.760587,\n",
    "        -96.761047, -96.76021, -96.760938, -96.760037, -96.759974, -96.763752,\n",
    "        -96.761748, -96.76226, -96.76216, -96.76203, -96.758619\n",
    "    ],\n",
    "    \"Neighborhood\": [\"Cedar Crest\"] * 23,\n",
    "    \"Elementary\": [\"Pease Elementary\"] * 23,\n",
    "    \"Middle_Sch\": [\"Zumwalt Middle\"] * 23,\n",
    "    \"High_Schoo\": [\"Roosevelt High\"] * 23,\n",
    "    \"Dollar_Val\": [\n",
    "        155000, 165340, 179110, 205900, 171000, 192110, 154000, 207900, 146500,\n",
    "        180800, 253700, 179800, 205300, 175300, 206000, 169000, 248500, 138100,\n",
    "        277300, 124800, 145600, 134600, 221000\n",
    "    ],\n",
    "    \"SqFt\": [\n",
    "        1224, 1428, 1140, 1315, 1100, 1401, 1397, 1518, 1183, 1221, 2664, 1126,\n",
    "        1911, 840, 1622, 1092, 1835, 1014, 2359, 899, 932, 1036, 1962\n",
    "    ],\n",
    "    \"Image_Path\": [\n",
    "        f\"C:\\\\Users\\\\jessi\\\\Desktop\\\\Dallas Walkability\\\\dallas project images GIS-selected\\\\{addr.split()[0]}\"\n",
    "        for addr in [\n",
    "            \"4506\", \"4510\", \"4512\", \"4516\", \"4519\", \"4520\", \"4523\", \"4527\", \"4530\",\n",
    "            \"4531\", \"4533\", \"4534\", \"4535\", \"4612\", \"4615\", \"4618\", \"4622\", \"3401\",\n",
    "            \"3500\", \"4534\", \"4538\", \"3227\", \"3502\"\n",
    "        ]\n",
    "    ],\n",
    "}\n",
    "\n",
    "# Convert data to a GeoDataFrame\n",
    "df = pd.DataFrame(data)\n",
    "geometry = [Point(xy) for xy in zip(df[\"Longitude\"], df[\"Latitude\"])]\n",
    "gdf = gpd.GeoDataFrame(df, geometry=geometry, crs=\"EPSG:4326\")  # WGS84 CRS\n",
    "\n",
    "# Save to a shapefile\n",
    "output_path = r\"C:\\Users\\jessi\\Desktop\\Dallas Walkability\\Dallas_Addresses.shp\"\n",
    "gdf.to_file(output_path)\n",
    "\n",
    "print(f\"Shapefile created at {output_path}\")\n"
   ]
  },
  {
   "cell_type": "code",
   "execution_count": 2,
   "metadata": {},
   "outputs": [],
   "source": [
    "import zipfile\n",
    "import os\n"
   ]
  },
  {
   "cell_type": "code",
   "execution_count": 4,
   "metadata": {},
   "outputs": [
    {
     "data": {
      "text/plain": [
       "['C:/Users/jessi/Desktop/images_extracted/3227 Mallory.JPG',\n",
       " 'C:/Users/jessi/Desktop/images_extracted/3400 Fifty-First.JPG',\n",
       " 'C:/Users/jessi/Desktop/images_extracted/3401 Fifty-First.jpg',\n",
       " 'C:/Users/jessi/Desktop/images_extracted/3500 Fifty-First.JPG',\n",
       " 'C:/Users/jessi/Desktop/images_extracted/3502 Mallory.JPG',\n",
       " 'C:/Users/jessi/Desktop/images_extracted/4506 Hedgdon.JPG',\n",
       " 'C:/Users/jessi/Desktop/images_extracted/4510 Hedgdon.JPG',\n",
       " 'C:/Users/jessi/Desktop/images_extracted/4512 Hedgdon.JPG',\n",
       " 'C:/Users/jessi/Desktop/images_extracted/4519 Hedgdon.JPG',\n",
       " 'C:/Users/jessi/Desktop/images_extracted/4520 Hedgdon.JPG',\n",
       " 'C:/Users/jessi/Desktop/images_extracted/4523 Hedgdon.JPG',\n",
       " 'C:/Users/jessi/Desktop/images_extracted/4527 Hedgdron.JPG',\n",
       " 'C:/Users/jessi/Desktop/images_extracted/4530 Hedgdon.JPG',\n",
       " 'C:/Users/jessi/Desktop/images_extracted/4530 Humphrey.JPG',\n",
       " 'C:/Users/jessi/Desktop/images_extracted/4531 Hedgdon.JPG',\n",
       " 'C:/Users/jessi/Desktop/images_extracted/4531 Humphrey.JPG',\n",
       " 'C:/Users/jessi/Desktop/images_extracted/4533 Hedgdon.JPG',\n",
       " 'C:/Users/jessi/Desktop/images_extracted/4534 Hedgdon.JPG',\n",
       " 'C:/Users/jessi/Desktop/images_extracted/4534 Humphrey.JPG',\n",
       " 'C:/Users/jessi/Desktop/images_extracted/4535 Hedgdon.JPG',\n",
       " 'C:/Users/jessi/Desktop/images_extracted/4538 Humphrey.JPG',\n",
       " 'C:/Users/jessi/Desktop/images_extracted/4612 Hedgdon.JPG',\n",
       " 'C:/Users/jessi/Desktop/images_extracted/4615 Hedgdon.JPG',\n",
       " 'C:/Users/jessi/Desktop/images_extracted/4618 Hedgdon.JPG',\n",
       " 'C:/Users/jessi/Desktop/images_extracted/4622 Hedgdon.JPG']"
      ]
     },
     "execution_count": 4,
     "metadata": {},
     "output_type": "execute_result"
    }
   ],
   "source": [
    "import zipfile\n",
    "import os\n",
    "\n",
    "# Define the path to the uploaded file and extraction directory\n",
    "uploaded_file_path = 'C:/Users/jessi/Desktop/3227 Mallory.zip'\n",
    "extraction_dir = 'C:/Users/jessi/Desktop/images_extracted/'\n",
    "\n",
    "# Extract the zip file\n",
    "os.makedirs(extraction_dir, exist_ok=True)\n",
    "with zipfile.ZipFile(uploaded_file_path, 'r') as zip_ref:\n",
    "    zip_ref.extractall(extraction_dir)\n",
    "\n",
    "# List the extracted files to verify contents\n",
    "extracted_files = []\n",
    "for root, dirs, files in os.walk(extraction_dir):\n",
    "    for file in files:\n",
    "        extracted_files.append(os.path.join(root, file))\n",
    "\n",
    "extracted_files\n"
   ]
  },
  {
   "cell_type": "markdown",
   "metadata": {},
   "source": [
    "extraction_dir = 'C:/Users/jessi/Desktop/images_extracted/'\n"
   ]
  },
  {
   "cell_type": "code",
   "execution_count": 5,
   "metadata": {},
   "outputs": [],
   "source": [
    "# import exifread\n",
    "# import pandas as pd\n",
    "\n",
    "# def extract_gps_data(image_path):\n",
    "#     \"\"\"Extract GPS coordinates from an image's EXIF metadata.\"\"\"\n",
    "#     with open(image_path, 'rb') as img_file:\n",
    "#         tags = exifread.process_file(img_file)\n",
    "        \n",
    "#         # Extract GPS metadata\n",
    "#         gps_latitude = tags.get('GPS GPSLatitude')\n",
    "#         gps_latitude_ref = tags.get('GPS GPSLatitudeRef')\n",
    "#         gps_longitude = tags.get('GPS GPSLongitude')\n",
    "#         gps_longitude_ref = tags.get('GPS GPSLongitudeRef')\n",
    "        \n",
    "#         if gps_latitude and gps_latitude_ref and gps_longitude and gps_longitude_ref:\n",
    "#             # Convert to degrees\n",
    "#             lat = convert_to_degrees(gps_latitude, gps_latitude_ref.values[0])\n",
    "#             lon = convert_to_degrees(gps_longitude, gps_longitude_ref.values[0])\n",
    "#             return lat, lon\n",
    "#         return None, None\n",
    "\n",
    "# def convert_to_degrees(value, ref):\n",
    "#     \"\"\"Convert GPS coordinates from degrees, minutes, and seconds to decimal degrees.\"\"\"\n",
    "#     d, m, s = [float(x.num) / float(x.den) for x in value.values]\n",
    "#     decimal = d + (m / 60.0) + (s / 3600.0)\n",
    "#     if ref in ['S', 'W']:\n",
    "#         decimal = -decimal\n",
    "#     return decimal\n",
    "\n",
    "# # Initialize list to hold metadata\n",
    "# metadata_list = []\n",
    "\n",
    "# # Process each image file\n",
    "# for image_file in extracted_files:\n",
    "#     if image_file.lower().endswith(('.jpg', '.jpeg', '.png')):\n",
    "#         lat, lon = extract_gps_data(image_file)\n",
    "#         metadata_list.append({\n",
    "#             'FileName': os.path.basename(image_file),\n",
    "#             'Latitude': lat,\n",
    "#             'Longitude': lon\n",
    "#         })\n",
    "\n",
    "# # Convert metadata to a DataFrame\n",
    "# metadata_df = pd.DataFrame(metadata_list)\n",
    "\n",
    "# # Save metadata to a CSV file\n",
    "# output_csv_path = '/mnt/data/image_metadata.csv'\n",
    "# metadata_df.to_csv(output_csv_path, index=False)\n",
    "\n",
    "# import ace_tools as tools; tools.display_dataframe_to_user(name=\"Extracted Image Metadata\", dataframe=metadata_df)\n"
   ]
  },
  {
   "cell_type": "code",
   "execution_count": 9,
   "metadata": {},
   "outputs": [
    {
     "name": "stdout",
     "output_type": "stream",
     "text": [
      "Metadata has been saved to C:/Users/jessi/Desktop/image_metadata.csv\n"
     ]
    }
   ],
   "source": [
    "from PIL import Image\n",
    "from PIL.ExifTags import TAGS, GPSTAGS\n",
    "import csv\n",
    "import os\n",
    "\n",
    "def extract_gps_info(exif_data):\n",
    "    \"\"\"Extract GPS information from EXIF data.\"\"\"\n",
    "    gps_info = {}\n",
    "    for key in exif_data.keys():\n",
    "        name = TAGS.get(key)\n",
    "        if name == \"GPSInfo\":\n",
    "            for gps_key in exif_data[key].keys():\n",
    "                gps_name = GPSTAGS.get(gps_key)\n",
    "                gps_info[gps_name] = exif_data[key][gps_key]\n",
    "    return gps_info\n",
    "\n",
    "def convert_to_degrees(value):\n",
    "    \"\"\"Convert GPS coordinates to decimal degrees.\"\"\"\n",
    "    d = value[0].numerator / value[0].denominator\n",
    "    m = value[1].numerator / value[1].denominator\n",
    "    s = value[2].numerator / value[2].denominator\n",
    "    return d + (m / 60.0) + (s / 3600.0)\n",
    "\n",
    "def get_coordinates(gps_info):\n",
    "    \"\"\"Get latitude and longitude from GPS info.\"\"\"\n",
    "    if \"GPSLatitude\" in gps_info and \"GPSLongitude\" in gps_info:\n",
    "        lat = convert_to_degrees(gps_info[\"GPSLatitude\"])\n",
    "        lon = convert_to_degrees(gps_info[\"GPSLongitude\"])\n",
    "        if gps_info[\"GPSLatitudeRef\"] == \"S\":\n",
    "            lat = -lat\n",
    "        if gps_info[\"GPSLongitudeRef\"] == \"W\":\n",
    "            lon = -lon\n",
    "        return lat, lon\n",
    "    return None, None\n",
    "\n",
    "# Define the directory containing the extracted images\n",
    "image_directory = 'C:/Users/jessi/Desktop/images_extracted/'\n",
    "\n",
    "# Prepare to save metadata to a CSV\n",
    "output_csv = 'C:/Users/jessi/Desktop/image_metadata.csv'\n",
    "metadata_list = []\n",
    "\n",
    "for image_file in os.listdir(image_directory):\n",
    "    if image_file.lower().endswith(('.jpg', '.jpeg', '.png')):\n",
    "        image_path = os.path.join(image_directory, image_file)\n",
    "        with Image.open(image_path) as img:\n",
    "            exif_data = img._getexif()\n",
    "            if exif_data:\n",
    "                gps_info = extract_gps_info(exif_data)\n",
    "                lat, lon = get_coordinates(gps_info)\n",
    "                metadata_list.append({\n",
    "                    'FileName': image_file,\n",
    "                    'Latitude': lat,\n",
    "                    'Longitude': lon\n",
    "                })\n",
    "\n",
    "# Write metadata to CSV\n",
    "with open(output_csv, 'w', newline='') as csvfile:\n",
    "    fieldnames = ['FileName', 'Latitude', 'Longitude']\n",
    "    writer = csv.DictWriter(csvfile, fieldnames=fieldnames)\n",
    "    writer.writeheader()\n",
    "    writer.writerows(metadata_list)\n",
    "\n",
    "print(f\"Metadata has been saved to {output_csv}\")\n"
   ]
  },
  {
   "cell_type": "code",
   "execution_count": 7,
   "metadata": {},
   "outputs": [
    {
     "name": "stdout",
     "output_type": "stream",
     "text": [
      "File does not exist.\n"
     ]
    }
   ],
   "source": [
    "import os  \n",
    "\n",
    "csv_path = 'C:/Users/jessi/Desktop/image_metadata.csv'  \n",
    "\n",
    "if os.path.exists(csv_path):  \n",
    "    print(\"File exists.\")  \n",
    "else:  \n",
    "    print(\"File does not exist.\")"
   ]
  },
  {
   "cell_type": "code",
   "execution_count": 2,
   "metadata": {},
   "outputs": [
    {
     "name": "stdout",
     "output_type": "stream",
     "text": [
      "File exists.\n"
     ]
    }
   ],
   "source": [
    "import os  \n",
    "\n",
    "csv_path = r'C:\\Users\\jessi\\Desktop\\dp\\image_metadata.csv'  \n",
    "\n",
    "if os.path.exists(csv_path):  \n",
    "    print(\"File exists.\")  \n",
    "else:  \n",
    "    print(\"File does not exist.\")"
   ]
  },
  {
   "cell_type": "code",
   "execution_count": null,
   "metadata": {},
   "outputs": [],
   "source": [
    "import pandas as pd  \n",
    "import os  \n",
    "\n",
    "# Correct path to your CSV file and image folder  \n",
    "csv_path = r'C:\\Users\\jessi\\Desktop\\dp\\image_metadata.csv'  \n",
    "image_folder = r'C:\\Users\\jessi\\Desktop\\dp\\images_extracted'  \n",
    "\n",
    "# Load the CSV  \n",
    "metadata_df = pd.read_csv(csv_path)  \n",
    "\n"
   ]
  },
  {
   "cell_type": "code",
   "execution_count": 5,
   "metadata": {},
   "outputs": [
    {
     "name": "stdout",
     "output_type": "stream",
     "text": [
      "Updated CSV saved to C:\\Users\\jessi\\Desktop\\dp\\meta.csv\n"
     ]
    }
   ],
   "source": [
    "# Add the ImagePath column  \n",
    "metadata_df['ImagePath'] = metadata_df['FileName'].apply(lambda x: os.path.join(image_folder, x))  \n",
    "\n",
    "# Save the updated CSV  \n",
    "updated_csv_path = r'C:\\Users\\jessi\\Desktop\\dp\\meta.csv'  \n",
    "metadata_df.to_csv(updated_csv_path, index=False)  \n",
    "\n",
    "print(f\"Updated CSV saved to {updated_csv_path}\")"
   ]
  }
 ],
 "metadata": {
  "kernelspec": {
   "display_name": "ArcGIS Pro Environment",
   "language": "python",
   "name": "arcgispro-py3"
  },
  "language_info": {
   "codemirror_mode": {
    "name": "ipython",
    "version": 3
   },
   "file_extension": ".py",
   "mimetype": "text/x-python",
   "name": "python",
   "nbconvert_exporter": "python",
   "pygments_lexer": "ipython3",
   "version": "3.11.10"
  }
 },
 "nbformat": 4,
 "nbformat_minor": 4
}
